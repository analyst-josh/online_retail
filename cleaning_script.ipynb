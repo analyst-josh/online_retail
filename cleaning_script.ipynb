{
 "cells": [
  {
   "cell_type": "markdown",
   "id": "f7301ed5-7f5b-4308-a7fc-5a6e870115d4",
   "metadata": {},
   "source": [
    "# Retail Transaction Data Cleaning"
   ]
  },
  {
   "cell_type": "markdown",
   "id": "235d9f12-439d-4942-84c9-25b107109b40",
   "metadata": {},
   "source": [
    "## 1. Load Data"
   ]
  },
  {
   "cell_type": "code",
   "execution_count": 1,
   "id": "278c088e-dddb-4267-98d9-156a0f1bb36f",
   "metadata": {},
   "outputs": [
    {
     "data": {
      "text/html": [
       "<div>\n",
       "<style scoped>\n",
       "    .dataframe tbody tr th:only-of-type {\n",
       "        vertical-align: middle;\n",
       "    }\n",
       "\n",
       "    .dataframe tbody tr th {\n",
       "        vertical-align: top;\n",
       "    }\n",
       "\n",
       "    .dataframe thead th {\n",
       "        text-align: right;\n",
       "    }\n",
       "</style>\n",
       "<table border=\"1\" class=\"dataframe\">\n",
       "  <thead>\n",
       "    <tr style=\"text-align: right;\">\n",
       "      <th></th>\n",
       "      <th>Invoice</th>\n",
       "      <th>StockCode</th>\n",
       "      <th>Description</th>\n",
       "      <th>Quantity</th>\n",
       "      <th>InvoiceDate</th>\n",
       "      <th>Price</th>\n",
       "      <th>Customer ID</th>\n",
       "      <th>Country</th>\n",
       "    </tr>\n",
       "  </thead>\n",
       "  <tbody>\n",
       "    <tr>\n",
       "      <th>0</th>\n",
       "      <td>489434</td>\n",
       "      <td>85048</td>\n",
       "      <td>15CM CHRISTMAS GLASS BALL 20 LIGHTS</td>\n",
       "      <td>12</td>\n",
       "      <td>2009-12-01 07:45:00</td>\n",
       "      <td>6.95</td>\n",
       "      <td>13085.0</td>\n",
       "      <td>United Kingdom</td>\n",
       "    </tr>\n",
       "    <tr>\n",
       "      <th>1</th>\n",
       "      <td>489434</td>\n",
       "      <td>79323P</td>\n",
       "      <td>PINK CHERRY LIGHTS</td>\n",
       "      <td>12</td>\n",
       "      <td>2009-12-01 07:45:00</td>\n",
       "      <td>6.75</td>\n",
       "      <td>13085.0</td>\n",
       "      <td>United Kingdom</td>\n",
       "    </tr>\n",
       "    <tr>\n",
       "      <th>2</th>\n",
       "      <td>489434</td>\n",
       "      <td>79323W</td>\n",
       "      <td>WHITE CHERRY LIGHTS</td>\n",
       "      <td>12</td>\n",
       "      <td>2009-12-01 07:45:00</td>\n",
       "      <td>6.75</td>\n",
       "      <td>13085.0</td>\n",
       "      <td>United Kingdom</td>\n",
       "    </tr>\n",
       "    <tr>\n",
       "      <th>3</th>\n",
       "      <td>489434</td>\n",
       "      <td>22041</td>\n",
       "      <td>RECORD FRAME 7\" SINGLE SIZE</td>\n",
       "      <td>48</td>\n",
       "      <td>2009-12-01 07:45:00</td>\n",
       "      <td>2.10</td>\n",
       "      <td>13085.0</td>\n",
       "      <td>United Kingdom</td>\n",
       "    </tr>\n",
       "    <tr>\n",
       "      <th>4</th>\n",
       "      <td>489434</td>\n",
       "      <td>21232</td>\n",
       "      <td>STRAWBERRY CERAMIC TRINKET BOX</td>\n",
       "      <td>24</td>\n",
       "      <td>2009-12-01 07:45:00</td>\n",
       "      <td>1.25</td>\n",
       "      <td>13085.0</td>\n",
       "      <td>United Kingdom</td>\n",
       "    </tr>\n",
       "  </tbody>\n",
       "</table>\n",
       "</div>"
      ],
      "text/plain": [
       "  Invoice StockCode                          Description  Quantity  \\\n",
       "0  489434     85048  15CM CHRISTMAS GLASS BALL 20 LIGHTS        12   \n",
       "1  489434    79323P                   PINK CHERRY LIGHTS        12   \n",
       "2  489434    79323W                  WHITE CHERRY LIGHTS        12   \n",
       "3  489434     22041         RECORD FRAME 7\" SINGLE SIZE         48   \n",
       "4  489434     21232       STRAWBERRY CERAMIC TRINKET BOX        24   \n",
       "\n",
       "          InvoiceDate  Price  Customer ID         Country  \n",
       "0 2009-12-01 07:45:00   6.95      13085.0  United Kingdom  \n",
       "1 2009-12-01 07:45:00   6.75      13085.0  United Kingdom  \n",
       "2 2009-12-01 07:45:00   6.75      13085.0  United Kingdom  \n",
       "3 2009-12-01 07:45:00   2.10      13085.0  United Kingdom  \n",
       "4 2009-12-01 07:45:00   1.25      13085.0  United Kingdom  "
      ]
     },
     "execution_count": 1,
     "metadata": {},
     "output_type": "execute_result"
    }
   ],
   "source": [
    "import pandas as pd\n",
    "\n",
    "df_2009 = pd.read_excel(\"data/retail_data.xlsx\", sheet_name=\"Year 2009-2010\")\n",
    "df_2010 = pd.read_excel(\"data/retail_data.xlsx\", sheet_name=\"Year 2010-2011\")\n",
    "\n",
    "df = pd.concat([df_2009, df_2010], ignore_index=True)\n",
    "\n",
    "df.head()\n"
   ]
  },
  {
   "cell_type": "markdown",
   "id": "47d469d1-bf31-49da-a8c6-306f2b5e8f0f",
   "metadata": {},
   "source": [
    "## 2. Inspect Columns and Basic Info"
   ]
  },
  {
   "cell_type": "code",
   "execution_count": 2,
   "id": "2b529684-bf43-426b-81a6-3f53a4b61fd5",
   "metadata": {},
   "outputs": [
    {
     "name": "stdout",
     "output_type": "stream",
     "text": [
      "<class 'pandas.core.frame.DataFrame'>\n",
      "RangeIndex: 1067371 entries, 0 to 1067370\n",
      "Data columns (total 8 columns):\n",
      " #   Column       Non-Null Count    Dtype         \n",
      "---  ------       --------------    -----         \n",
      " 0   Invoice      1067371 non-null  object        \n",
      " 1   StockCode    1067371 non-null  object        \n",
      " 2   Description  1062989 non-null  object        \n",
      " 3   Quantity     1067371 non-null  int64         \n",
      " 4   InvoiceDate  1067371 non-null  datetime64[ns]\n",
      " 5   Price        1067371 non-null  float64       \n",
      " 6   Customer ID  824364 non-null   float64       \n",
      " 7   Country      1067371 non-null  object        \n",
      "dtypes: datetime64[ns](1), float64(2), int64(1), object(4)\n",
      "memory usage: 65.1+ MB\n"
     ]
    },
    {
     "data": {
      "text/plain": [
       "Index(['Invoice', 'StockCode', 'Description', 'Quantity', 'InvoiceDate',\n",
       "       'Price', 'Customer ID', 'Country'],\n",
       "      dtype='object')"
      ]
     },
     "execution_count": 2,
     "metadata": {},
     "output_type": "execute_result"
    }
   ],
   "source": [
    "df.info()\n",
    "df.columns"
   ]
  },
  {
   "cell_type": "markdown",
   "id": "0a583995-fbc3-47aa-bac1-03a02a0f3d5e",
   "metadata": {},
   "source": [
    "## 3. Rename Columns"
   ]
  },
  {
   "cell_type": "code",
   "execution_count": 3,
   "id": "2a53456f-1bc3-4cc4-a4e9-5da912a6093b",
   "metadata": {},
   "outputs": [],
   "source": [
    "df.columns = [\n",
    "    \"invoice_id\",\n",
    "    \"stock_id\",\n",
    "    \"description\",\n",
    "    \"quantity\",\n",
    "    \"invoice_date\",\n",
    "    \"price\",\n",
    "    \"customer_id\",\n",
    "    \"country\"\n",
    "]"
   ]
  },
  {
   "cell_type": "markdown",
   "id": "06a2b827-2233-4912-a3a5-23ebfa5d3ecd",
   "metadata": {},
   "source": [
    "## 4. Standardize IDs"
   ]
  },
  {
   "cell_type": "code",
   "execution_count": 4,
   "id": "372a6561-ff73-4915-b822-4a9cdfc43f52",
   "metadata": {},
   "outputs": [],
   "source": [
    "df[\"invoice_id\"] = df[\"invoice_id\"].astype(str).str.strip()\n",
    "df[\"stock_id\"] = df[\"stock_id\"].astype(str).str.strip()"
   ]
  },
  {
   "cell_type": "markdown",
   "id": "f69a00b7-ba75-40b7-9152-6061de921ad4",
   "metadata": {},
   "source": [
    "## 5. Remove Descriptions Starting with '*'"
   ]
  },
  {
   "cell_type": "code",
   "execution_count": 5,
   "id": "ad8e1dd6-e6dd-4395-80a7-7efa2ac79687",
   "metadata": {},
   "outputs": [],
   "source": [
    "df = df[~df[\"description\"].str.startswith(\"*\", na=False)]"
   ]
  },
  {
   "cell_type": "markdown",
   "id": "b9be4923-e78c-4f91-b5a9-8fd396e15078",
   "metadata": {},
   "source": [
    "## 6. Trim Description Field"
   ]
  },
  {
   "cell_type": "code",
   "execution_count": 6,
   "id": "ae3e02d3-3f50-4606-b0fc-9de6291ded3b",
   "metadata": {},
   "outputs": [],
   "source": [
    "df[\"description\"] = df[\"description\"].str.strip()"
   ]
  },
  {
   "cell_type": "markdown",
   "id": "25a7be92-2c1b-42cb-8b33-795ab21a5dfb",
   "metadata": {},
   "source": [
    "## 7. Explore Unique Invoice Prefixes"
   ]
  },
  {
   "cell_type": "code",
   "execution_count": 7,
   "id": "ecc65aaa-48a4-4e1e-9585-fc1148af6b0e",
   "metadata": {},
   "outputs": [
    {
     "data": {
      "text/plain": [
       "invoice_id\n",
       "5    939378\n",
       "4    108487\n",
       "C     19494\n",
       "A         6\n",
       "Name: count, dtype: int64"
      ]
     },
     "execution_count": 7,
     "metadata": {},
     "output_type": "execute_result"
    }
   ],
   "source": [
    "df[\"invoice_id\"].str[0].value_counts()"
   ]
  },
  {
   "cell_type": "markdown",
   "id": "ee7fbe45-8c4b-46d4-86c9-5b146aa92d6b",
   "metadata": {},
   "source": [
    "## 8. Classify Transactions"
   ]
  },
  {
   "cell_type": "code",
   "execution_count": 8,
   "id": "b0376db5-5bdb-4e09-9c19-94a7fff1343f",
   "metadata": {},
   "outputs": [],
   "source": [
    "df[\"transaction_type\"] = \"sale\"\n",
    "\n",
    "# Credit notes\n",
    "df.loc[df[\"invoice_id\"].str.startswith(\"C\", na=False), \"transaction_type\"] = \"credit note\"\n",
    "\n",
    "# Inventory corrections\n",
    "mask_inventory = (\n",
    "    df[\"invoice_id\"].str[0].str.isdigit() &\n",
    "    (df[\"quantity\"] < 0) &\n",
    "    (df[\"price\"] == 0) &\n",
    "    df[\"customer_id\"].isna()\n",
    ")\n",
    "df.loc[mask_inventory, \"transaction_type\"] = \"inventory correction\"\n",
    "\n",
    "# Unknown items\n",
    "df.loc[df[\"description\"].str.fullmatch(r\"\\?+\", na=False), \"transaction_type\"] = \"unknown item\"\n",
    "\n",
    "# StockID mapping\n",
    "stock_map = {\n",
    "    \"B\": \"adjust bad debt\",\n",
    "    \"S\": \"sample\",\n",
    "    \"POST\": \"postage\",\n",
    "    \"M\": \"manual\",\n",
    "    \"DOT\": \"dotcom postage\",\n",
    "    \"D\": \"discount\",\n",
    "    \"CRUK\": \"cruk commission\",\n",
    "    \"C3\": \"carriage\",\n",
    "    \"C2\": \"carriage\",\n",
    "    \"BANK CHARGES\": \"bank charges\",\n",
    "    \"AMAZONFEE\": \"amazon fee\",\n",
    "    \"ADJUST2\": \"adjustment\",\n",
    "    \"ADJUST\": \"adjustment\",\n",
    "    \"TEST001\": \"test\",\n",
    "    \"TEST002\": \"test\",\n",
    "    \"gift_0001_90\": \"gift card voucher -90\",\n",
    "    \"gift_0001_80\": \"gift card voucher -80\",\n",
    "    \"gift_0001_70\": \"gift card voucher -70\",\n",
    "    \"gift_0001_60\": \"gift card voucher -60\",\n",
    "    \"gift_0001_50\": \"gift card voucher -50\",\n",
    "    \"gift_0001_40\": \"gift card voucher -40\",\n",
    "    \"gift_0001_30\": \"gift card voucher -30\",\n",
    "    \"gift_0001_20\": \"gift card voucher -20\",\n",
    "    \"gift_0001_10\": \"gift card voucher -10\",\n",
    "}\n",
    "df[\"transaction_type\"] = df[\"stock_id\"].map(stock_map).fillna(df[\"transaction_type\"])\n"
   ]
  },
  {
   "cell_type": "markdown",
   "id": "e38b3b10-d77e-4ec8-97a7-771282671893",
   "metadata": {},
   "source": [
    "## 9. Parse Invoice Date"
   ]
  },
  {
   "cell_type": "code",
   "execution_count": 9,
   "id": "dc97a1de-aeca-41b8-b084-695d43d2d23d",
   "metadata": {},
   "outputs": [],
   "source": [
    "df[\"invoice_date\"] = pd.to_datetime(df[\"invoice_date\"], errors=\"coerce\")"
   ]
  },
  {
   "cell_type": "markdown",
   "id": "e1548cbb-c9b3-4cee-a721-2ace518f97dd",
   "metadata": {},
   "source": [
    "## 10. Fill Missing Descriptions"
   ]
  },
  {
   "cell_type": "code",
   "execution_count": 10,
   "id": "08a0f8b3-bf44-4abd-b491-90869dbc4e59",
   "metadata": {},
   "outputs": [],
   "source": [
    "desc_map = (\n",
    "    df.loc[df[\"description\"].notna()]\n",
    "    .drop_duplicates(subset=[\"stock_id\"])\n",
    "    .set_index(\"stock_id\")[\"description\"]\n",
    ")\n",
    "\n",
    "df[\"description\"] = df[\"description\"].fillna(df[\"stock_id\"].map(desc_map))"
   ]
  },
  {
   "cell_type": "markdown",
   "id": "229db741-b5ee-4b2f-b9e0-4df80d9c2262",
   "metadata": {},
   "source": [
    "## 11. Remove Duplicates"
   ]
  },
  {
   "cell_type": "code",
   "execution_count": 11,
   "id": "41234bf9-5727-4a2e-a441-771b6a8f33aa",
   "metadata": {},
   "outputs": [],
   "source": [
    "df = df.drop_duplicates()"
   ]
  },
  {
   "cell_type": "code",
   "execution_count": null,
   "id": "29d9339a-cace-4123-acf8-dbcc9b62cf18",
   "metadata": {},
   "outputs": [],
   "source": [
    "## 12. Final Checks"
   ]
  },
  {
   "cell_type": "code",
   "execution_count": 12,
   "id": "76eaf2eb-e0ec-406f-a748-95d4fd72a401",
   "metadata": {},
   "outputs": [
    {
     "data": {
      "text/plain": [
       "invoice_id               0\n",
       "stock_id                 0\n",
       "description            366\n",
       "quantity                 0\n",
       "invoice_date             0\n",
       "price                    0\n",
       "customer_id         235146\n",
       "country                  0\n",
       "transaction_type         0\n",
       "dtype: int64"
      ]
     },
     "execution_count": 12,
     "metadata": {},
     "output_type": "execute_result"
    }
   ],
   "source": [
    "df[\"transaction_type\"].value_counts()\n",
    "df.isna().sum()"
   ]
  },
  {
   "cell_type": "markdown",
   "id": "87fe8f5d-2f6d-4f06-8ada-1eda93e25cf2",
   "metadata": {},
   "source": [
    "## 13. Export Cleaned Data"
   ]
  },
  {
   "cell_type": "code",
   "execution_count": 13,
   "id": "8c7e4755-d4cf-471a-a52e-eac94b35f24f",
   "metadata": {},
   "outputs": [],
   "source": [
    "df.to_csv(\"data/cleaned_retail_data.csv\", index=False)"
   ]
  },
  {
   "cell_type": "code",
   "execution_count": null,
   "id": "1e2261ee-f63b-41bd-af2a-07bc29f47472",
   "metadata": {},
   "outputs": [],
   "source": []
  },
  {
   "cell_type": "code",
   "execution_count": null,
   "id": "e7138620-5be7-49c2-acf1-42477fbdbe8c",
   "metadata": {},
   "outputs": [],
   "source": []
  },
  {
   "cell_type": "code",
   "execution_count": null,
   "id": "ee42927d-fd08-457e-bfe9-8b8006f7b7f4",
   "metadata": {},
   "outputs": [],
   "source": []
  },
  {
   "cell_type": "code",
   "execution_count": null,
   "id": "cd8f9cf7-d571-4604-a2c4-1d91b2d20323",
   "metadata": {},
   "outputs": [],
   "source": []
  },
  {
   "cell_type": "code",
   "execution_count": null,
   "id": "8f52545d-323b-4b8d-a198-2ad6a0f0b5f6",
   "metadata": {},
   "outputs": [],
   "source": []
  },
  {
   "cell_type": "code",
   "execution_count": null,
   "id": "a9460439-14f8-4761-a11c-534b887427e1",
   "metadata": {},
   "outputs": [],
   "source": []
  },
  {
   "cell_type": "code",
   "execution_count": null,
   "id": "e8b337ce-08cb-4906-afdb-46f30c3fb611",
   "metadata": {},
   "outputs": [],
   "source": []
  },
  {
   "cell_type": "code",
   "execution_count": null,
   "id": "d5782f85-b8eb-4ab3-a1a5-febe9a2343c5",
   "metadata": {},
   "outputs": [],
   "source": []
  },
  {
   "cell_type": "code",
   "execution_count": null,
   "id": "2f127280-c76c-4c40-92c1-a9f98dbec6bf",
   "metadata": {},
   "outputs": [],
   "source": []
  },
  {
   "cell_type": "code",
   "execution_count": null,
   "id": "c6af0dcc-72ee-44b2-8c60-0c968cae7a78",
   "metadata": {},
   "outputs": [],
   "source": []
  },
  {
   "cell_type": "code",
   "execution_count": null,
   "id": "3bfd9ab1-9fef-47b5-b81d-c8af5e72be08",
   "metadata": {},
   "outputs": [],
   "source": []
  },
  {
   "cell_type": "code",
   "execution_count": null,
   "id": "68b2b752-6a96-4ac3-ba0b-978c6ef96cd0",
   "metadata": {},
   "outputs": [],
   "source": []
  },
  {
   "cell_type": "code",
   "execution_count": null,
   "id": "7f747784-e57b-43e5-afd6-000854c2a167",
   "metadata": {},
   "outputs": [],
   "source": []
  },
  {
   "cell_type": "code",
   "execution_count": null,
   "id": "b657d132-5dd3-48c1-b99c-90ec34100e74",
   "metadata": {},
   "outputs": [],
   "source": []
  },
  {
   "cell_type": "code",
   "execution_count": null,
   "id": "da2f3285-a0f1-4c37-854a-bda3d0a2ad48",
   "metadata": {},
   "outputs": [],
   "source": []
  },
  {
   "cell_type": "code",
   "execution_count": null,
   "id": "14848aa1-69a1-4e28-bb60-217689903ddf",
   "metadata": {},
   "outputs": [],
   "source": []
  },
  {
   "cell_type": "code",
   "execution_count": null,
   "id": "21fa6160-a5fa-4a7a-bcba-6380b977f1b8",
   "metadata": {},
   "outputs": [],
   "source": []
  },
  {
   "cell_type": "code",
   "execution_count": null,
   "id": "c00cfd95-1934-4d67-bc3f-e0fa8ac2329a",
   "metadata": {},
   "outputs": [],
   "source": []
  },
  {
   "cell_type": "code",
   "execution_count": null,
   "id": "eb8a79f2-2191-43cf-9ff7-02228b68cd85",
   "metadata": {},
   "outputs": [],
   "source": []
  },
  {
   "cell_type": "code",
   "execution_count": null,
   "id": "5b9d4196-3da8-44a0-a957-212ecd2a186e",
   "metadata": {},
   "outputs": [],
   "source": []
  },
  {
   "cell_type": "code",
   "execution_count": null,
   "id": "b4d8c858-4b8e-4e9e-9c3b-f7cf5f9f80a1",
   "metadata": {},
   "outputs": [],
   "source": []
  },
  {
   "cell_type": "code",
   "execution_count": null,
   "id": "1e627a53-69fc-42b0-8e80-4817271d597d",
   "metadata": {},
   "outputs": [],
   "source": []
  },
  {
   "cell_type": "code",
   "execution_count": null,
   "id": "3a92a8f4-f130-4e2b-97f0-f19e2ddd13bf",
   "metadata": {},
   "outputs": [],
   "source": []
  },
  {
   "cell_type": "code",
   "execution_count": null,
   "id": "e9a8c4be-8ed1-4e5d-8e6c-38555f8d51f5",
   "metadata": {},
   "outputs": [],
   "source": []
  },
  {
   "cell_type": "code",
   "execution_count": null,
   "id": "b8309842-9aeb-406c-8bbc-67eabda6ebda",
   "metadata": {},
   "outputs": [],
   "source": []
  },
  {
   "cell_type": "code",
   "execution_count": null,
   "id": "b5f947c4-2b32-4984-a3ab-d28b9e3d6390",
   "metadata": {},
   "outputs": [],
   "source": []
  }
 ],
 "metadata": {
  "kernelspec": {
   "display_name": "Python [conda env:base] *",
   "language": "python",
   "name": "conda-base-py"
  },
  "language_info": {
   "codemirror_mode": {
    "name": "ipython",
    "version": 3
   },
   "file_extension": ".py",
   "mimetype": "text/x-python",
   "name": "python",
   "nbconvert_exporter": "python",
   "pygments_lexer": "ipython3",
   "version": "3.12.7"
  }
 },
 "nbformat": 4,
 "nbformat_minor": 5
}
